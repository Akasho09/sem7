{
 "cells": [
  {
   "cell_type": "markdown",
   "metadata": {
    "id": "U7Qp6zUG-vAG"
   },
   "source": [
    "# **NumPy Assignment 1**"
   ]
  },
  {
   "cell_type": "markdown",
   "metadata": {
    "id": "k2PHiAe387Mk"
   },
   "source": [
    "You are given the following data for daily temperatures over 5 days. Each row corresponds to one day and the first column is the morning temperature, the second the afternoon temperature and the third is the evening temperature."
   ]
  },
  {
   "cell_type": "code",
   "execution_count": null,
   "metadata": {
    "id": "DszEwA5E8ySm"
   },
   "outputs": [],
   "source": [
    "# Temperature data: [Morning, Afternoon, Evening] for 5 days\n",
    "temps = np.array([\n",
    "    [22, 28, 25],\n",
    "    [23, 30, 27],\n",
    "    [21, 29, 24],\n",
    "    [20, 26, 22],\n",
    "    [19, 25, 21]\n",
    "])"
   ]
  },
  {
   "cell_type": "markdown",
   "metadata": {
    "id": "aCt972hV9Kjn"
   },
   "source": [
    "1. Use axis-wise operations to compute a column of daily average temperatures. Use **hstack** to add the column of daily averages as a fourth column."
   ]
  },
  {
   "cell_type": "code",
   "execution_count": null,
   "metadata": {},
   "outputs": [],
   "source": []
  },
  {
   "cell_type": "markdown",
   "metadata": {
    "id": "Tm3jJalJ9pwn"
   },
   "source": [
    "2. Use axis-wise operations to compute a row of average morning, afternoon and evening temperatures. Use **vstack** to add the row of averages as the last row of the dataset. The last diagonal element should be the overall average of the data."
   ]
  },
  {
   "cell_type": "code",
   "execution_count": null,
   "metadata": {
    "id": "xzbciJjS-fPl"
   },
   "outputs": [],
   "source": []
  },
  {
   "cell_type": "markdown",
   "metadata": {
    "id": "RHPWVE3o_7Yw"
   },
   "source": [
    "3. You are given data from a 2D grid of weather sensors placed across a geographic area. Each sensor records the temperature at a given point. The data is stored in a 2D NumPy array `T` of shape `(100, 100)` representing temperature in Celsius.\n",
    "\n",
    "You are to perform the following tasks using **only NumPy**:\n",
    "\n",
    "#### **Tasks:**\n",
    "\n",
    "1. **Data Initialization:**\n",
    "   Simulate the temperature grid `T` by initializing it with random temperature values between 15°C and 45°C.\n",
    "\n",
    "   ```python\n",
    "   # Example output: array([[22.4, 33.2, ..., 30.1], ..., [28.9, 29.5, ..., 31.2]])\n",
    "   ```\n",
    "\n",
    "2. **Hotspot Detection:**\n",
    "   Define a \"hotspot\" as any point in the grid whose temperature is more than **10 degrees higher** than the average of its 8 immediate neighbors (N, NE, E, SE, S, SW, W, NW).\n",
    "\n",
    "   * Return the (i, j) indices of all hotspot locations.\n",
    "   * Use **array slicing and vectorized operations** only.\n",
    "\n",
    "3. **Temperature Normalization:**\n",
    "   Normalize the entire grid so that the values lie between 0 and 1. Store the normalized values in a new array `T_norm`.\n",
    "\n",
    "4. **Cool Region Mask:**\n",
    "   Create a boolean mask of the grid where temperatures are **below 25°C**.\n",
    "\n",
    "5. **Region-wise Average:**\n",
    "   Divide the grid into **4 equal quadrants** and compute the **average temperature** in each quadrant. Return the result as a 2×2 array."
   ]
  },
  {
   "cell_type": "code",
   "execution_count": null,
   "metadata": {
    "id": "jrdwB2LtAZrO"
   },
   "outputs": [],
   "source": []
  }
 ],
 "metadata": {
  "colab": {
   "authorship_tag": "ABX9TyPQfAi9dshAtPra5AMDlb3y",
   "provenance": []
  },
  "kernelspec": {
   "display_name": "Python 3",
   "name": "python3"
  },
  "language_info": {
   "name": "python"
  }
 },
 "nbformat": 4,
 "nbformat_minor": 0
}
